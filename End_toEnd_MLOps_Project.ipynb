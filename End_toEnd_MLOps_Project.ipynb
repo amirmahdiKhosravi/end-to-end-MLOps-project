{
  "nbformat": 4,
  "nbformat_minor": 0,
  "metadata": {
    "colab": {
      "provenance": [],
      "authorship_tag": "ABX9TyOPuMXSlwMjOaXEnRB0EIj3",
      "include_colab_link": true
    },
    "kernelspec": {
      "name": "python3",
      "display_name": "Python 3"
    },
    "language_info": {
      "name": "python"
    }
  },
  "cells": [
    {
      "cell_type": "markdown",
      "metadata": {
        "id": "view-in-github",
        "colab_type": "text"
      },
      "source": [
        "<a href=\"https://colab.research.google.com/github/amirmahdiKhosravi/end-to-end-MLOps-project/blob/main/End_toEnd_MLOps_Project.ipynb\" target=\"_parent\"><img src=\"https://colab.research.google.com/assets/colab-badge.svg\" alt=\"Open In Colab\"/></a>"
      ]
    },
    {
      "cell_type": "markdown",
      "source": [
        "Setup for our project:"
      ],
      "metadata": {
        "id": "5mjSMvcL5RPN"
      }
    },
    {
      "cell_type": "code",
      "source": [
        "%pip install \"zenml[server]\"\n",
        "!zenml integration install sklearn -y\n",
        "%pip install pyparsing==2.4.2\n",
        "\n",
        "import IPython\n",
        "\n",
        "IPython.Application.instance().kernel.do_shutdown(restart=True)"
      ],
      "metadata": {
        "id": "UYMduNIW5T4v",
        "colab": {
          "base_uri": "https://localhost:8080/"
        },
        "outputId": "d7b7ef5a-3435-47e7-ba6c-3a4d4e915280"
      },
      "execution_count": 8,
      "outputs": [
        {
          "output_type": "stream",
          "name": "stdout",
          "text": [
            "Requirement already satisfied: zenml[server] in /usr/local/lib/python3.10/dist-packages (0.52.0)\n",
            "Requirement already satisfied: alembic<1.9.0,>=1.8.1 in /usr/local/lib/python3.10/dist-packages (from zenml[server]) (1.8.1)\n",
            "Requirement already satisfied: azure-mgmt-resource>=21.0.0 in /usr/local/lib/python3.10/dist-packages (from zenml[server]) (23.0.1)\n",
            "Requirement already satisfied: bcrypt==4.0.1 in /usr/local/lib/python3.10/dist-packages (from zenml[server]) (4.0.1)\n",
            "Requirement already satisfied: click<8.1.4,>=8.0.1 in /usr/local/lib/python3.10/dist-packages (from zenml[server]) (8.1.3)\n",
            "Requirement already satisfied: click-params<0.4.0,>=0.3.0 in /usr/local/lib/python3.10/dist-packages (from zenml[server]) (0.3.0)\n",
            "Requirement already satisfied: cloudpickle<3,>=2.0.0 in /usr/local/lib/python3.10/dist-packages (from zenml[server]) (2.2.1)\n",
            "Requirement already satisfied: distro<2.0.0,>=1.6.0 in /usr/lib/python3/dist-packages (from zenml[server]) (1.7.0)\n",
            "Requirement already satisfied: docker<6.2.0,>=6.1.0 in /usr/local/lib/python3.10/dist-packages (from zenml[server]) (6.1.3)\n",
            "Requirement already satisfied: gitpython<4.0.0,>=3.1.18 in /usr/local/lib/python3.10/dist-packages (from zenml[server]) (3.1.40)\n",
            "Requirement already satisfied: httplib2<0.20,>=0.19.1 in /usr/local/lib/python3.10/dist-packages (from zenml[server]) (0.19.1)\n",
            "Requirement already satisfied: pandas>=1.1.5 in /usr/local/lib/python3.10/dist-packages (from zenml[server]) (1.5.3)\n",
            "Requirement already satisfied: passlib[bcrypt]<1.8.0,>=1.7.4 in /usr/local/lib/python3.10/dist-packages (from zenml[server]) (1.7.4)\n",
            "Requirement already satisfied: psutil>=5.0.0 in /usr/local/lib/python3.10/dist-packages (from zenml[server]) (5.9.5)\n",
            "Requirement already satisfied: pydantic<1.11,>=1.9.0 in /usr/local/lib/python3.10/dist-packages (from zenml[server]) (1.10.13)\n",
            "Requirement already satisfied: pymysql<1.1.0,>=1.0.2 in /usr/local/lib/python3.10/dist-packages (from zenml[server]) (1.0.3)\n",
            "Requirement already satisfied: pyparsing<3,>=2.4.0 in /usr/local/lib/python3.10/dist-packages (from zenml[server]) (2.4.2)\n",
            "Requirement already satisfied: python-dateutil<3.0.0,>=2.8.1 in /usr/local/lib/python3.10/dist-packages (from zenml[server]) (2.8.2)\n",
            "Requirement already satisfied: pyyaml>=6.0.1 in /usr/local/lib/python3.10/dist-packages (from zenml[server]) (6.0.1)\n",
            "Requirement already satisfied: rich[jupyter]>=12.0.0 in /usr/local/lib/python3.10/dist-packages (from zenml[server]) (13.7.0)\n",
            "Requirement already satisfied: sqlalchemy_utils==0.38.3 in /usr/local/lib/python3.10/dist-packages (from zenml[server]) (0.38.3)\n",
            "Requirement already satisfied: sqlmodel==0.0.8 in /usr/local/lib/python3.10/dist-packages (from zenml[server]) (0.0.8)\n",
            "Requirement already satisfied: Jinja2 in /usr/local/lib/python3.10/dist-packages (from zenml[server]) (3.1.2)\n",
            "Requirement already satisfied: fastapi<0.100,>=0.75 in /usr/local/lib/python3.10/dist-packages (from zenml[server]) (0.99.1)\n",
            "Requirement already satisfied: fastapi-utils<0.3.0,>=0.2.1 in /usr/local/lib/python3.10/dist-packages (from zenml[server]) (0.2.1)\n",
            "Requirement already satisfied: ipinfo>=4.4.3 in /usr/local/lib/python3.10/dist-packages (from zenml[server]) (5.0.0)\n",
            "Requirement already satisfied: orjson<3.9.0,>=3.8.3 in /usr/local/lib/python3.10/dist-packages (from zenml[server]) (3.8.14)\n",
            "Requirement already satisfied: pyjwt[crypto]==2.7.* in /usr/local/lib/python3.10/dist-packages (from zenml[server]) (2.7.0)\n",
            "Requirement already satisfied: python-multipart<0.1.0,>=0.0.5 in /usr/local/lib/python3.10/dist-packages (from zenml[server]) (0.0.6)\n",
            "Requirement already satisfied: uvicorn[standard]>=0.17.5 in /usr/local/lib/python3.10/dist-packages (from zenml[server]) (0.24.0.post1)\n",
            "Requirement already satisfied: cryptography>=3.4.0 in /usr/local/lib/python3.10/dist-packages (from pyjwt[crypto]==2.7.*->zenml[server]) (41.0.7)\n",
            "Requirement already satisfied: SQLAlchemy>=1.3 in /usr/local/lib/python3.10/dist-packages (from sqlalchemy_utils==0.38.3->zenml[server]) (1.4.41)\n",
            "Requirement already satisfied: sqlalchemy2-stubs in /usr/local/lib/python3.10/dist-packages (from sqlmodel==0.0.8->zenml[server]) (0.0.2a37)\n",
            "Requirement already satisfied: Mako in /usr/local/lib/python3.10/dist-packages (from alembic<1.9.0,>=1.8.1->zenml[server]) (1.3.0)\n",
            "Requirement already satisfied: isodate<1.0.0,>=0.6.1 in /usr/local/lib/python3.10/dist-packages (from azure-mgmt-resource>=21.0.0->zenml[server]) (0.6.1)\n",
            "Requirement already satisfied: azure-common~=1.1 in /usr/local/lib/python3.10/dist-packages (from azure-mgmt-resource>=21.0.0->zenml[server]) (1.1.28)\n",
            "Requirement already satisfied: azure-mgmt-core<2.0.0,>=1.3.2 in /usr/local/lib/python3.10/dist-packages (from azure-mgmt-resource>=21.0.0->zenml[server]) (1.4.0)\n",
            "Requirement already satisfied: validators<0.19,>=0.18 in /usr/local/lib/python3.10/dist-packages (from click-params<0.4.0,>=0.3.0->zenml[server]) (0.18.2)\n",
            "Requirement already satisfied: packaging>=14.0 in /usr/local/lib/python3.10/dist-packages (from docker<6.2.0,>=6.1.0->zenml[server]) (23.2)\n",
            "Requirement already satisfied: requests>=2.26.0 in /usr/local/lib/python3.10/dist-packages (from docker<6.2.0,>=6.1.0->zenml[server]) (2.31.0)\n",
            "Requirement already satisfied: urllib3>=1.26.0 in /usr/local/lib/python3.10/dist-packages (from docker<6.2.0,>=6.1.0->zenml[server]) (2.0.7)\n",
            "Requirement already satisfied: websocket-client>=0.32.0 in /usr/local/lib/python3.10/dist-packages (from docker<6.2.0,>=6.1.0->zenml[server]) (1.7.0)\n",
            "Requirement already satisfied: starlette<0.28.0,>=0.27.0 in /usr/local/lib/python3.10/dist-packages (from fastapi<0.100,>=0.75->zenml[server]) (0.27.0)\n",
            "Requirement already satisfied: typing-extensions>=4.5.0 in /usr/local/lib/python3.10/dist-packages (from fastapi<0.100,>=0.75->zenml[server]) (4.9.0)\n",
            "Requirement already satisfied: gitdb<5,>=4.0.1 in /usr/local/lib/python3.10/dist-packages (from gitpython<4.0.0,>=3.1.18->zenml[server]) (4.0.11)\n",
            "Requirement already satisfied: cachetools in /usr/local/lib/python3.10/dist-packages (from ipinfo>=4.4.3->zenml[server]) (5.3.2)\n",
            "Requirement already satisfied: aiohttp<=4 in /usr/local/lib/python3.10/dist-packages (from ipinfo>=4.4.3->zenml[server]) (3.9.1)\n",
            "Requirement already satisfied: pytz>=2020.1 in /usr/local/lib/python3.10/dist-packages (from pandas>=1.1.5->zenml[server]) (2023.3.post1)\n",
            "Requirement already satisfied: numpy>=1.21.0 in /usr/local/lib/python3.10/dist-packages (from pandas>=1.1.5->zenml[server]) (1.23.5)\n",
            "Requirement already satisfied: six>=1.5 in /usr/local/lib/python3.10/dist-packages (from python-dateutil<3.0.0,>=2.8.1->zenml[server]) (1.16.0)\n",
            "Requirement already satisfied: markdown-it-py>=2.2.0 in /usr/local/lib/python3.10/dist-packages (from rich[jupyter]>=12.0.0->zenml[server]) (3.0.0)\n",
            "Requirement already satisfied: pygments<3.0.0,>=2.13.0 in /usr/local/lib/python3.10/dist-packages (from rich[jupyter]>=12.0.0->zenml[server]) (2.16.1)\n",
            "Requirement already satisfied: ipywidgets<9,>=7.5.1 in /usr/local/lib/python3.10/dist-packages (from rich[jupyter]>=12.0.0->zenml[server]) (7.7.1)\n",
            "Requirement already satisfied: h11>=0.8 in /usr/local/lib/python3.10/dist-packages (from uvicorn[standard]>=0.17.5->zenml[server]) (0.14.0)\n",
            "Requirement already satisfied: httptools>=0.5.0 in /usr/local/lib/python3.10/dist-packages (from uvicorn[standard]>=0.17.5->zenml[server]) (0.6.1)\n",
            "Requirement already satisfied: python-dotenv>=0.13 in /usr/local/lib/python3.10/dist-packages (from uvicorn[standard]>=0.17.5->zenml[server]) (1.0.0)\n",
            "Requirement already satisfied: uvloop!=0.15.0,!=0.15.1,>=0.14.0 in /usr/local/lib/python3.10/dist-packages (from uvicorn[standard]>=0.17.5->zenml[server]) (0.19.0)\n",
            "Requirement already satisfied: watchfiles>=0.13 in /usr/local/lib/python3.10/dist-packages (from uvicorn[standard]>=0.17.5->zenml[server]) (0.21.0)\n",
            "Requirement already satisfied: websockets>=10.4 in /usr/local/lib/python3.10/dist-packages (from uvicorn[standard]>=0.17.5->zenml[server]) (12.0)\n",
            "Requirement already satisfied: MarkupSafe>=2.0 in /usr/local/lib/python3.10/dist-packages (from Jinja2->zenml[server]) (2.1.3)\n",
            "Requirement already satisfied: attrs>=17.3.0 in /usr/local/lib/python3.10/dist-packages (from aiohttp<=4->ipinfo>=4.4.3->zenml[server]) (23.1.0)\n",
            "Requirement already satisfied: multidict<7.0,>=4.5 in /usr/local/lib/python3.10/dist-packages (from aiohttp<=4->ipinfo>=4.4.3->zenml[server]) (6.0.4)\n",
            "Requirement already satisfied: yarl<2.0,>=1.0 in /usr/local/lib/python3.10/dist-packages (from aiohttp<=4->ipinfo>=4.4.3->zenml[server]) (1.9.4)\n",
            "Requirement already satisfied: frozenlist>=1.1.1 in /usr/local/lib/python3.10/dist-packages (from aiohttp<=4->ipinfo>=4.4.3->zenml[server]) (1.4.0)\n",
            "Requirement already satisfied: aiosignal>=1.1.2 in /usr/local/lib/python3.10/dist-packages (from aiohttp<=4->ipinfo>=4.4.3->zenml[server]) (1.3.1)\n",
            "Requirement already satisfied: async-timeout<5.0,>=4.0 in /usr/local/lib/python3.10/dist-packages (from aiohttp<=4->ipinfo>=4.4.3->zenml[server]) (4.0.3)\n",
            "Requirement already satisfied: azure-core<2.0.0,>=1.26.2 in /usr/local/lib/python3.10/dist-packages (from azure-mgmt-core<2.0.0,>=1.3.2->azure-mgmt-resource>=21.0.0->zenml[server]) (1.29.6)\n",
            "Requirement already satisfied: cffi>=1.12 in /usr/local/lib/python3.10/dist-packages (from cryptography>=3.4.0->pyjwt[crypto]==2.7.*->zenml[server]) (1.16.0)\n",
            "Requirement already satisfied: smmap<6,>=3.0.1 in /usr/local/lib/python3.10/dist-packages (from gitdb<5,>=4.0.1->gitpython<4.0.0,>=3.1.18->zenml[server]) (5.0.1)\n",
            "Requirement already satisfied: ipykernel>=4.5.1 in /usr/local/lib/python3.10/dist-packages (from ipywidgets<9,>=7.5.1->rich[jupyter]>=12.0.0->zenml[server]) (5.5.6)\n",
            "Requirement already satisfied: ipython-genutils~=0.2.0 in /usr/local/lib/python3.10/dist-packages (from ipywidgets<9,>=7.5.1->rich[jupyter]>=12.0.0->zenml[server]) (0.2.0)\n",
            "Requirement already satisfied: traitlets>=4.3.1 in /usr/local/lib/python3.10/dist-packages (from ipywidgets<9,>=7.5.1->rich[jupyter]>=12.0.0->zenml[server]) (5.7.1)\n",
            "Requirement already satisfied: widgetsnbextension~=3.6.0 in /usr/local/lib/python3.10/dist-packages (from ipywidgets<9,>=7.5.1->rich[jupyter]>=12.0.0->zenml[server]) (3.6.6)\n",
            "Requirement already satisfied: ipython>=4.0.0 in /usr/local/lib/python3.10/dist-packages (from ipywidgets<9,>=7.5.1->rich[jupyter]>=12.0.0->zenml[server]) (7.34.0)\n",
            "Requirement already satisfied: jupyterlab-widgets>=1.0.0 in /usr/local/lib/python3.10/dist-packages (from ipywidgets<9,>=7.5.1->rich[jupyter]>=12.0.0->zenml[server]) (3.0.9)\n",
            "Requirement already satisfied: mdurl~=0.1 in /usr/local/lib/python3.10/dist-packages (from markdown-it-py>=2.2.0->rich[jupyter]>=12.0.0->zenml[server]) (0.1.2)\n",
            "Requirement already satisfied: charset-normalizer<4,>=2 in /usr/local/lib/python3.10/dist-packages (from requests>=2.26.0->docker<6.2.0,>=6.1.0->zenml[server]) (3.3.2)\n",
            "Requirement already satisfied: idna<4,>=2.5 in /usr/local/lib/python3.10/dist-packages (from requests>=2.26.0->docker<6.2.0,>=6.1.0->zenml[server]) (3.6)\n",
            "Requirement already satisfied: certifi>=2017.4.17 in /usr/local/lib/python3.10/dist-packages (from requests>=2.26.0->docker<6.2.0,>=6.1.0->zenml[server]) (2023.11.17)\n",
            "Requirement already satisfied: greenlet!=0.4.17 in /usr/local/lib/python3.10/dist-packages (from SQLAlchemy>=1.3->sqlalchemy_utils==0.38.3->zenml[server]) (3.0.2)\n",
            "Requirement already satisfied: anyio<5,>=3.4.0 in /usr/local/lib/python3.10/dist-packages (from starlette<0.28.0,>=0.27.0->fastapi<0.100,>=0.75->zenml[server]) (3.7.1)\n",
            "Requirement already satisfied: decorator>=3.4.0 in /usr/local/lib/python3.10/dist-packages (from validators<0.19,>=0.18->click-params<0.4.0,>=0.3.0->zenml[server]) (4.4.2)\n",
            "Requirement already satisfied: sniffio>=1.1 in /usr/local/lib/python3.10/dist-packages (from anyio<5,>=3.4.0->starlette<0.28.0,>=0.27.0->fastapi<0.100,>=0.75->zenml[server]) (1.3.0)\n",
            "Requirement already satisfied: exceptiongroup in /usr/local/lib/python3.10/dist-packages (from anyio<5,>=3.4.0->starlette<0.28.0,>=0.27.0->fastapi<0.100,>=0.75->zenml[server]) (1.2.0)\n",
            "Requirement already satisfied: pycparser in /usr/local/lib/python3.10/dist-packages (from cffi>=1.12->cryptography>=3.4.0->pyjwt[crypto]==2.7.*->zenml[server]) (2.21)\n",
            "Requirement already satisfied: jupyter-client in /usr/local/lib/python3.10/dist-packages (from ipykernel>=4.5.1->ipywidgets<9,>=7.5.1->rich[jupyter]>=12.0.0->zenml[server]) (6.1.12)\n",
            "Requirement already satisfied: tornado>=4.2 in /usr/local/lib/python3.10/dist-packages (from ipykernel>=4.5.1->ipywidgets<9,>=7.5.1->rich[jupyter]>=12.0.0->zenml[server]) (6.3.2)\n",
            "Requirement already satisfied: setuptools>=18.5 in /usr/local/lib/python3.10/dist-packages (from ipython>=4.0.0->ipywidgets<9,>=7.5.1->rich[jupyter]>=12.0.0->zenml[server]) (67.7.2)\n",
            "Requirement already satisfied: jedi>=0.16 in /usr/local/lib/python3.10/dist-packages (from ipython>=4.0.0->ipywidgets<9,>=7.5.1->rich[jupyter]>=12.0.0->zenml[server]) (0.19.1)\n",
            "Requirement already satisfied: pickleshare in /usr/local/lib/python3.10/dist-packages (from ipython>=4.0.0->ipywidgets<9,>=7.5.1->rich[jupyter]>=12.0.0->zenml[server]) (0.7.5)\n",
            "Requirement already satisfied: prompt-toolkit!=3.0.0,!=3.0.1,<3.1.0,>=2.0.0 in /usr/local/lib/python3.10/dist-packages (from ipython>=4.0.0->ipywidgets<9,>=7.5.1->rich[jupyter]>=12.0.0->zenml[server]) (3.0.43)\n",
            "Requirement already satisfied: backcall in /usr/local/lib/python3.10/dist-packages (from ipython>=4.0.0->ipywidgets<9,>=7.5.1->rich[jupyter]>=12.0.0->zenml[server]) (0.2.0)\n",
            "Requirement already satisfied: matplotlib-inline in /usr/local/lib/python3.10/dist-packages (from ipython>=4.0.0->ipywidgets<9,>=7.5.1->rich[jupyter]>=12.0.0->zenml[server]) (0.1.6)\n",
            "Requirement already satisfied: pexpect>4.3 in /usr/local/lib/python3.10/dist-packages (from ipython>=4.0.0->ipywidgets<9,>=7.5.1->rich[jupyter]>=12.0.0->zenml[server]) (4.9.0)\n",
            "Requirement already satisfied: notebook>=4.4.1 in /usr/local/lib/python3.10/dist-packages (from widgetsnbextension~=3.6.0->ipywidgets<9,>=7.5.1->rich[jupyter]>=12.0.0->zenml[server]) (6.5.5)\n",
            "Requirement already satisfied: parso<0.9.0,>=0.8.3 in /usr/local/lib/python3.10/dist-packages (from jedi>=0.16->ipython>=4.0.0->ipywidgets<9,>=7.5.1->rich[jupyter]>=12.0.0->zenml[server]) (0.8.3)\n",
            "Requirement already satisfied: pyzmq<25,>=17 in /usr/local/lib/python3.10/dist-packages (from notebook>=4.4.1->widgetsnbextension~=3.6.0->ipywidgets<9,>=7.5.1->rich[jupyter]>=12.0.0->zenml[server]) (23.2.1)\n",
            "Requirement already satisfied: argon2-cffi in /usr/local/lib/python3.10/dist-packages (from notebook>=4.4.1->widgetsnbextension~=3.6.0->ipywidgets<9,>=7.5.1->rich[jupyter]>=12.0.0->zenml[server]) (23.1.0)\n",
            "Requirement already satisfied: jupyter-core>=4.6.1 in /usr/local/lib/python3.10/dist-packages (from notebook>=4.4.1->widgetsnbextension~=3.6.0->ipywidgets<9,>=7.5.1->rich[jupyter]>=12.0.0->zenml[server]) (5.5.0)\n",
            "Requirement already satisfied: nbformat in /usr/local/lib/python3.10/dist-packages (from notebook>=4.4.1->widgetsnbextension~=3.6.0->ipywidgets<9,>=7.5.1->rich[jupyter]>=12.0.0->zenml[server]) (5.9.2)\n",
            "Requirement already satisfied: nbconvert>=5 in /usr/local/lib/python3.10/dist-packages (from notebook>=4.4.1->widgetsnbextension~=3.6.0->ipywidgets<9,>=7.5.1->rich[jupyter]>=12.0.0->zenml[server]) (6.5.4)\n",
            "Requirement already satisfied: nest-asyncio>=1.5 in /usr/local/lib/python3.10/dist-packages (from notebook>=4.4.1->widgetsnbextension~=3.6.0->ipywidgets<9,>=7.5.1->rich[jupyter]>=12.0.0->zenml[server]) (1.5.8)\n",
            "Requirement already satisfied: Send2Trash>=1.8.0 in /usr/local/lib/python3.10/dist-packages (from notebook>=4.4.1->widgetsnbextension~=3.6.0->ipywidgets<9,>=7.5.1->rich[jupyter]>=12.0.0->zenml[server]) (1.8.2)\n",
            "Requirement already satisfied: terminado>=0.8.3 in /usr/local/lib/python3.10/dist-packages (from notebook>=4.4.1->widgetsnbextension~=3.6.0->ipywidgets<9,>=7.5.1->rich[jupyter]>=12.0.0->zenml[server]) (0.18.0)\n",
            "Requirement already satisfied: prometheus-client in /usr/local/lib/python3.10/dist-packages (from notebook>=4.4.1->widgetsnbextension~=3.6.0->ipywidgets<9,>=7.5.1->rich[jupyter]>=12.0.0->zenml[server]) (0.19.0)\n",
            "Requirement already satisfied: nbclassic>=0.4.7 in /usr/local/lib/python3.10/dist-packages (from notebook>=4.4.1->widgetsnbextension~=3.6.0->ipywidgets<9,>=7.5.1->rich[jupyter]>=12.0.0->zenml[server]) (1.0.0)\n",
            "Requirement already satisfied: ptyprocess>=0.5 in /usr/local/lib/python3.10/dist-packages (from pexpect>4.3->ipython>=4.0.0->ipywidgets<9,>=7.5.1->rich[jupyter]>=12.0.0->zenml[server]) (0.7.0)\n",
            "Requirement already satisfied: wcwidth in /usr/local/lib/python3.10/dist-packages (from prompt-toolkit!=3.0.0,!=3.0.1,<3.1.0,>=2.0.0->ipython>=4.0.0->ipywidgets<9,>=7.5.1->rich[jupyter]>=12.0.0->zenml[server]) (0.2.12)\n",
            "Requirement already satisfied: platformdirs>=2.5 in /usr/local/lib/python3.10/dist-packages (from jupyter-core>=4.6.1->notebook>=4.4.1->widgetsnbextension~=3.6.0->ipywidgets<9,>=7.5.1->rich[jupyter]>=12.0.0->zenml[server]) (4.1.0)\n",
            "Requirement already satisfied: jupyter-server>=1.8 in /usr/local/lib/python3.10/dist-packages (from nbclassic>=0.4.7->notebook>=4.4.1->widgetsnbextension~=3.6.0->ipywidgets<9,>=7.5.1->rich[jupyter]>=12.0.0->zenml[server]) (1.24.0)\n",
            "Requirement already satisfied: notebook-shim>=0.2.3 in /usr/local/lib/python3.10/dist-packages (from nbclassic>=0.4.7->notebook>=4.4.1->widgetsnbextension~=3.6.0->ipywidgets<9,>=7.5.1->rich[jupyter]>=12.0.0->zenml[server]) (0.2.3)\n",
            "Requirement already satisfied: lxml in /usr/local/lib/python3.10/dist-packages (from nbconvert>=5->notebook>=4.4.1->widgetsnbextension~=3.6.0->ipywidgets<9,>=7.5.1->rich[jupyter]>=12.0.0->zenml[server]) (4.9.3)\n",
            "Requirement already satisfied: beautifulsoup4 in /usr/local/lib/python3.10/dist-packages (from nbconvert>=5->notebook>=4.4.1->widgetsnbextension~=3.6.0->ipywidgets<9,>=7.5.1->rich[jupyter]>=12.0.0->zenml[server]) (4.11.2)\n",
            "Requirement already satisfied: bleach in /usr/local/lib/python3.10/dist-packages (from nbconvert>=5->notebook>=4.4.1->widgetsnbextension~=3.6.0->ipywidgets<9,>=7.5.1->rich[jupyter]>=12.0.0->zenml[server]) (6.1.0)\n",
            "Requirement already satisfied: defusedxml in /usr/local/lib/python3.10/dist-packages (from nbconvert>=5->notebook>=4.4.1->widgetsnbextension~=3.6.0->ipywidgets<9,>=7.5.1->rich[jupyter]>=12.0.0->zenml[server]) (0.7.1)\n",
            "Requirement already satisfied: entrypoints>=0.2.2 in /usr/local/lib/python3.10/dist-packages (from nbconvert>=5->notebook>=4.4.1->widgetsnbextension~=3.6.0->ipywidgets<9,>=7.5.1->rich[jupyter]>=12.0.0->zenml[server]) (0.4)\n",
            "Requirement already satisfied: jupyterlab-pygments in /usr/local/lib/python3.10/dist-packages (from nbconvert>=5->notebook>=4.4.1->widgetsnbextension~=3.6.0->ipywidgets<9,>=7.5.1->rich[jupyter]>=12.0.0->zenml[server]) (0.3.0)\n",
            "Requirement already satisfied: mistune<2,>=0.8.1 in /usr/local/lib/python3.10/dist-packages (from nbconvert>=5->notebook>=4.4.1->widgetsnbextension~=3.6.0->ipywidgets<9,>=7.5.1->rich[jupyter]>=12.0.0->zenml[server]) (0.8.4)\n",
            "Requirement already satisfied: nbclient>=0.5.0 in /usr/local/lib/python3.10/dist-packages (from nbconvert>=5->notebook>=4.4.1->widgetsnbextension~=3.6.0->ipywidgets<9,>=7.5.1->rich[jupyter]>=12.0.0->zenml[server]) (0.9.0)\n",
            "Requirement already satisfied: pandocfilters>=1.4.1 in /usr/local/lib/python3.10/dist-packages (from nbconvert>=5->notebook>=4.4.1->widgetsnbextension~=3.6.0->ipywidgets<9,>=7.5.1->rich[jupyter]>=12.0.0->zenml[server]) (1.5.0)\n",
            "Requirement already satisfied: tinycss2 in /usr/local/lib/python3.10/dist-packages (from nbconvert>=5->notebook>=4.4.1->widgetsnbextension~=3.6.0->ipywidgets<9,>=7.5.1->rich[jupyter]>=12.0.0->zenml[server]) (1.2.1)\n",
            "Requirement already satisfied: fastjsonschema in /usr/local/lib/python3.10/dist-packages (from nbformat->notebook>=4.4.1->widgetsnbextension~=3.6.0->ipywidgets<9,>=7.5.1->rich[jupyter]>=12.0.0->zenml[server]) (2.19.0)\n",
            "Requirement already satisfied: jsonschema>=2.6 in /usr/local/lib/python3.10/dist-packages (from nbformat->notebook>=4.4.1->widgetsnbextension~=3.6.0->ipywidgets<9,>=7.5.1->rich[jupyter]>=12.0.0->zenml[server]) (4.19.2)\n",
            "Requirement already satisfied: argon2-cffi-bindings in /usr/local/lib/python3.10/dist-packages (from argon2-cffi->notebook>=4.4.1->widgetsnbextension~=3.6.0->ipywidgets<9,>=7.5.1->rich[jupyter]>=12.0.0->zenml[server]) (21.2.0)\n",
            "Requirement already satisfied: jsonschema-specifications>=2023.03.6 in /usr/local/lib/python3.10/dist-packages (from jsonschema>=2.6->nbformat->notebook>=4.4.1->widgetsnbextension~=3.6.0->ipywidgets<9,>=7.5.1->rich[jupyter]>=12.0.0->zenml[server]) (2023.11.2)\n",
            "Requirement already satisfied: referencing>=0.28.4 in /usr/local/lib/python3.10/dist-packages (from jsonschema>=2.6->nbformat->notebook>=4.4.1->widgetsnbextension~=3.6.0->ipywidgets<9,>=7.5.1->rich[jupyter]>=12.0.0->zenml[server]) (0.32.0)\n",
            "Requirement already satisfied: rpds-py>=0.7.1 in /usr/local/lib/python3.10/dist-packages (from jsonschema>=2.6->nbformat->notebook>=4.4.1->widgetsnbextension~=3.6.0->ipywidgets<9,>=7.5.1->rich[jupyter]>=12.0.0->zenml[server]) (0.13.2)\n",
            "Requirement already satisfied: soupsieve>1.2 in /usr/local/lib/python3.10/dist-packages (from beautifulsoup4->nbconvert>=5->notebook>=4.4.1->widgetsnbextension~=3.6.0->ipywidgets<9,>=7.5.1->rich[jupyter]>=12.0.0->zenml[server]) (2.5)\n",
            "Requirement already satisfied: webencodings in /usr/local/lib/python3.10/dist-packages (from bleach->nbconvert>=5->notebook>=4.4.1->widgetsnbextension~=3.6.0->ipywidgets<9,>=7.5.1->rich[jupyter]>=12.0.0->zenml[server]) (0.5.1)\n",
            "\u001b[1;35mNumExpr defaulting to 2 threads.\u001b[0m\n",
            "\u001b[2K\u001b[32m⠋\u001b[0m Installing integrations...\n",
            "\u001b[1A\u001b[2KRequirement already satisfied: pyparsing==2.4.2 in /usr/local/lib/python3.10/dist-packages (2.4.2)\n"
          ]
        },
        {
          "output_type": "execute_result",
          "data": {
            "text/plain": [
              "{'status': 'ok', 'restart': True}"
            ]
          },
          "metadata": {},
          "execution_count": 8
        }
      ]
    },
    {
      "cell_type": "code",
      "source": [
        "NGROK_TOKEN = \"2Ze6COEBPZorYjW9mcX2NxGXkd0_5VjfzGigf1Q8wPQywZAmr\""
      ],
      "metadata": {
        "id": "tpduJubB9TKk"
      },
      "execution_count": 1,
      "outputs": []
    },
    {
      "cell_type": "code",
      "source": [
        "from zenml.environment import Environment\n",
        "\n",
        "if Environment.in_google_colab():\n",
        "  !pip install pyngrok\n",
        "  !ngrok authtoken {NGROK_TOKEN}"
      ],
      "metadata": {
        "colab": {
          "base_uri": "https://localhost:8080/"
        },
        "id": "Mub0ir8XH8Xg",
        "outputId": "aef521a8-c64e-4c2f-e2cc-4e12223045a5"
      },
      "execution_count": 2,
      "outputs": [
        {
          "output_type": "stream",
          "name": "stderr",
          "text": [
            "INFO:numexpr.utils:NumExpr defaulting to 2 threads.\n"
          ]
        },
        {
          "output_type": "stream",
          "name": "stdout",
          "text": [
            "\u001b[1;35mNumExpr defaulting to 2 threads.\u001b[0m\n",
            "Requirement already satisfied: pyngrok in /usr/local/lib/python3.10/dist-packages (7.0.3)\n",
            "Requirement already satisfied: PyYAML in /usr/local/lib/python3.10/dist-packages (from pyngrok) (6.0.1)\n",
            "Authtoken saved to configuration file: /root/.config/ngrok/ngrok.yml\n"
          ]
        }
      ]
    },
    {
      "cell_type": "code",
      "source": [
        "!pip install zenml"
      ],
      "metadata": {
        "id": "9lKF9wIbKSu2",
        "colab": {
          "base_uri": "https://localhost:8080/"
        },
        "outputId": "b1658560-406e-44bc-82a6-b77a54af9c80"
      },
      "execution_count": 3,
      "outputs": [
        {
          "output_type": "stream",
          "name": "stdout",
          "text": [
            "Requirement already satisfied: zenml in /usr/local/lib/python3.10/dist-packages (0.52.0)\n",
            "Requirement already satisfied: alembic<1.9.0,>=1.8.1 in /usr/local/lib/python3.10/dist-packages (from zenml) (1.8.1)\n",
            "Requirement already satisfied: azure-mgmt-resource>=21.0.0 in /usr/local/lib/python3.10/dist-packages (from zenml) (23.0.1)\n",
            "Requirement already satisfied: bcrypt==4.0.1 in /usr/local/lib/python3.10/dist-packages (from zenml) (4.0.1)\n",
            "Requirement already satisfied: click<8.1.4,>=8.0.1 in /usr/local/lib/python3.10/dist-packages (from zenml) (8.1.3)\n",
            "Requirement already satisfied: click-params<0.4.0,>=0.3.0 in /usr/local/lib/python3.10/dist-packages (from zenml) (0.3.0)\n",
            "Requirement already satisfied: cloudpickle<3,>=2.0.0 in /usr/local/lib/python3.10/dist-packages (from zenml) (2.2.1)\n",
            "Requirement already satisfied: distro<2.0.0,>=1.6.0 in /usr/lib/python3/dist-packages (from zenml) (1.7.0)\n",
            "Requirement already satisfied: docker<6.2.0,>=6.1.0 in /usr/local/lib/python3.10/dist-packages (from zenml) (6.1.3)\n",
            "Requirement already satisfied: gitpython<4.0.0,>=3.1.18 in /usr/local/lib/python3.10/dist-packages (from zenml) (3.1.40)\n",
            "Requirement already satisfied: httplib2<0.20,>=0.19.1 in /usr/local/lib/python3.10/dist-packages (from zenml) (0.19.1)\n",
            "Requirement already satisfied: pandas>=1.1.5 in /usr/local/lib/python3.10/dist-packages (from zenml) (1.5.3)\n",
            "Requirement already satisfied: passlib[bcrypt]<1.8.0,>=1.7.4 in /usr/local/lib/python3.10/dist-packages (from zenml) (1.7.4)\n",
            "Requirement already satisfied: psutil>=5.0.0 in /usr/local/lib/python3.10/dist-packages (from zenml) (5.9.5)\n",
            "Requirement already satisfied: pydantic<1.11,>=1.9.0 in /usr/local/lib/python3.10/dist-packages (from zenml) (1.10.13)\n",
            "Requirement already satisfied: pymysql<1.1.0,>=1.0.2 in /usr/local/lib/python3.10/dist-packages (from zenml) (1.0.3)\n",
            "Requirement already satisfied: pyparsing<3,>=2.4.0 in /usr/local/lib/python3.10/dist-packages (from zenml) (2.4.2)\n",
            "Requirement already satisfied: python-dateutil<3.0.0,>=2.8.1 in /usr/local/lib/python3.10/dist-packages (from zenml) (2.8.2)\n",
            "Requirement already satisfied: pyyaml>=6.0.1 in /usr/local/lib/python3.10/dist-packages (from zenml) (6.0.1)\n",
            "Requirement already satisfied: rich[jupyter]>=12.0.0 in /usr/local/lib/python3.10/dist-packages (from zenml) (13.7.0)\n",
            "Requirement already satisfied: sqlalchemy_utils==0.38.3 in /usr/local/lib/python3.10/dist-packages (from zenml) (0.38.3)\n",
            "Requirement already satisfied: sqlmodel==0.0.8 in /usr/local/lib/python3.10/dist-packages (from zenml) (0.0.8)\n",
            "Requirement already satisfied: SQLAlchemy>=1.3 in /usr/local/lib/python3.10/dist-packages (from sqlalchemy_utils==0.38.3->zenml) (1.4.41)\n",
            "Requirement already satisfied: sqlalchemy2-stubs in /usr/local/lib/python3.10/dist-packages (from sqlmodel==0.0.8->zenml) (0.0.2a37)\n",
            "Requirement already satisfied: Mako in /usr/local/lib/python3.10/dist-packages (from alembic<1.9.0,>=1.8.1->zenml) (1.3.0)\n",
            "Requirement already satisfied: isodate<1.0.0,>=0.6.1 in /usr/local/lib/python3.10/dist-packages (from azure-mgmt-resource>=21.0.0->zenml) (0.6.1)\n",
            "Requirement already satisfied: azure-common~=1.1 in /usr/local/lib/python3.10/dist-packages (from azure-mgmt-resource>=21.0.0->zenml) (1.1.28)\n",
            "Requirement already satisfied: azure-mgmt-core<2.0.0,>=1.3.2 in /usr/local/lib/python3.10/dist-packages (from azure-mgmt-resource>=21.0.0->zenml) (1.4.0)\n",
            "Requirement already satisfied: validators<0.19,>=0.18 in /usr/local/lib/python3.10/dist-packages (from click-params<0.4.0,>=0.3.0->zenml) (0.18.2)\n",
            "Requirement already satisfied: packaging>=14.0 in /usr/local/lib/python3.10/dist-packages (from docker<6.2.0,>=6.1.0->zenml) (23.2)\n",
            "Requirement already satisfied: requests>=2.26.0 in /usr/local/lib/python3.10/dist-packages (from docker<6.2.0,>=6.1.0->zenml) (2.31.0)\n",
            "Requirement already satisfied: urllib3>=1.26.0 in /usr/local/lib/python3.10/dist-packages (from docker<6.2.0,>=6.1.0->zenml) (2.0.7)\n",
            "Requirement already satisfied: websocket-client>=0.32.0 in /usr/local/lib/python3.10/dist-packages (from docker<6.2.0,>=6.1.0->zenml) (1.7.0)\n",
            "Requirement already satisfied: gitdb<5,>=4.0.1 in /usr/local/lib/python3.10/dist-packages (from gitpython<4.0.0,>=3.1.18->zenml) (4.0.11)\n",
            "Requirement already satisfied: pytz>=2020.1 in /usr/local/lib/python3.10/dist-packages (from pandas>=1.1.5->zenml) (2023.3.post1)\n",
            "Requirement already satisfied: numpy>=1.21.0 in /usr/local/lib/python3.10/dist-packages (from pandas>=1.1.5->zenml) (1.23.5)\n",
            "Requirement already satisfied: typing-extensions>=4.2.0 in /usr/local/lib/python3.10/dist-packages (from pydantic<1.11,>=1.9.0->zenml) (4.9.0)\n",
            "Requirement already satisfied: six>=1.5 in /usr/local/lib/python3.10/dist-packages (from python-dateutil<3.0.0,>=2.8.1->zenml) (1.16.0)\n",
            "Requirement already satisfied: markdown-it-py>=2.2.0 in /usr/local/lib/python3.10/dist-packages (from rich[jupyter]>=12.0.0->zenml) (3.0.0)\n",
            "Requirement already satisfied: pygments<3.0.0,>=2.13.0 in /usr/local/lib/python3.10/dist-packages (from rich[jupyter]>=12.0.0->zenml) (2.16.1)\n",
            "Requirement already satisfied: ipywidgets<9,>=7.5.1 in /usr/local/lib/python3.10/dist-packages (from rich[jupyter]>=12.0.0->zenml) (7.7.1)\n",
            "Requirement already satisfied: azure-core<2.0.0,>=1.26.2 in /usr/local/lib/python3.10/dist-packages (from azure-mgmt-core<2.0.0,>=1.3.2->azure-mgmt-resource>=21.0.0->zenml) (1.29.6)\n",
            "Requirement already satisfied: smmap<6,>=3.0.1 in /usr/local/lib/python3.10/dist-packages (from gitdb<5,>=4.0.1->gitpython<4.0.0,>=3.1.18->zenml) (5.0.1)\n",
            "Requirement already satisfied: ipykernel>=4.5.1 in /usr/local/lib/python3.10/dist-packages (from ipywidgets<9,>=7.5.1->rich[jupyter]>=12.0.0->zenml) (5.5.6)\n",
            "Requirement already satisfied: ipython-genutils~=0.2.0 in /usr/local/lib/python3.10/dist-packages (from ipywidgets<9,>=7.5.1->rich[jupyter]>=12.0.0->zenml) (0.2.0)\n",
            "Requirement already satisfied: traitlets>=4.3.1 in /usr/local/lib/python3.10/dist-packages (from ipywidgets<9,>=7.5.1->rich[jupyter]>=12.0.0->zenml) (5.7.1)\n",
            "Requirement already satisfied: widgetsnbextension~=3.6.0 in /usr/local/lib/python3.10/dist-packages (from ipywidgets<9,>=7.5.1->rich[jupyter]>=12.0.0->zenml) (3.6.6)\n",
            "Requirement already satisfied: ipython>=4.0.0 in /usr/local/lib/python3.10/dist-packages (from ipywidgets<9,>=7.5.1->rich[jupyter]>=12.0.0->zenml) (7.34.0)\n",
            "Requirement already satisfied: jupyterlab-widgets>=1.0.0 in /usr/local/lib/python3.10/dist-packages (from ipywidgets<9,>=7.5.1->rich[jupyter]>=12.0.0->zenml) (3.0.9)\n",
            "Requirement already satisfied: mdurl~=0.1 in /usr/local/lib/python3.10/dist-packages (from markdown-it-py>=2.2.0->rich[jupyter]>=12.0.0->zenml) (0.1.2)\n",
            "Requirement already satisfied: charset-normalizer<4,>=2 in /usr/local/lib/python3.10/dist-packages (from requests>=2.26.0->docker<6.2.0,>=6.1.0->zenml) (3.3.2)\n",
            "Requirement already satisfied: idna<4,>=2.5 in /usr/local/lib/python3.10/dist-packages (from requests>=2.26.0->docker<6.2.0,>=6.1.0->zenml) (3.6)\n",
            "Requirement already satisfied: certifi>=2017.4.17 in /usr/local/lib/python3.10/dist-packages (from requests>=2.26.0->docker<6.2.0,>=6.1.0->zenml) (2023.11.17)\n",
            "Requirement already satisfied: greenlet!=0.4.17 in /usr/local/lib/python3.10/dist-packages (from SQLAlchemy>=1.3->sqlalchemy_utils==0.38.3->zenml) (3.0.2)\n",
            "Requirement already satisfied: decorator>=3.4.0 in /usr/local/lib/python3.10/dist-packages (from validators<0.19,>=0.18->click-params<0.4.0,>=0.3.0->zenml) (4.4.2)\n",
            "Requirement already satisfied: MarkupSafe>=0.9.2 in /usr/local/lib/python3.10/dist-packages (from Mako->alembic<1.9.0,>=1.8.1->zenml) (2.1.3)\n",
            "Requirement already satisfied: anyio<5.0,>=3.0 in /usr/local/lib/python3.10/dist-packages (from azure-core<2.0.0,>=1.26.2->azure-mgmt-core<2.0.0,>=1.3.2->azure-mgmt-resource>=21.0.0->zenml) (3.7.1)\n",
            "Requirement already satisfied: jupyter-client in /usr/local/lib/python3.10/dist-packages (from ipykernel>=4.5.1->ipywidgets<9,>=7.5.1->rich[jupyter]>=12.0.0->zenml) (6.1.12)\n",
            "Requirement already satisfied: tornado>=4.2 in /usr/local/lib/python3.10/dist-packages (from ipykernel>=4.5.1->ipywidgets<9,>=7.5.1->rich[jupyter]>=12.0.0->zenml) (6.3.2)\n",
            "Requirement already satisfied: setuptools>=18.5 in /usr/local/lib/python3.10/dist-packages (from ipython>=4.0.0->ipywidgets<9,>=7.5.1->rich[jupyter]>=12.0.0->zenml) (67.7.2)\n",
            "Requirement already satisfied: jedi>=0.16 in /usr/local/lib/python3.10/dist-packages (from ipython>=4.0.0->ipywidgets<9,>=7.5.1->rich[jupyter]>=12.0.0->zenml) (0.19.1)\n",
            "Requirement already satisfied: pickleshare in /usr/local/lib/python3.10/dist-packages (from ipython>=4.0.0->ipywidgets<9,>=7.5.1->rich[jupyter]>=12.0.0->zenml) (0.7.5)\n",
            "Requirement already satisfied: prompt-toolkit!=3.0.0,!=3.0.1,<3.1.0,>=2.0.0 in /usr/local/lib/python3.10/dist-packages (from ipython>=4.0.0->ipywidgets<9,>=7.5.1->rich[jupyter]>=12.0.0->zenml) (3.0.43)\n",
            "Requirement already satisfied: backcall in /usr/local/lib/python3.10/dist-packages (from ipython>=4.0.0->ipywidgets<9,>=7.5.1->rich[jupyter]>=12.0.0->zenml) (0.2.0)\n",
            "Requirement already satisfied: matplotlib-inline in /usr/local/lib/python3.10/dist-packages (from ipython>=4.0.0->ipywidgets<9,>=7.5.1->rich[jupyter]>=12.0.0->zenml) (0.1.6)\n",
            "Requirement already satisfied: pexpect>4.3 in /usr/local/lib/python3.10/dist-packages (from ipython>=4.0.0->ipywidgets<9,>=7.5.1->rich[jupyter]>=12.0.0->zenml) (4.9.0)\n",
            "Requirement already satisfied: notebook>=4.4.1 in /usr/local/lib/python3.10/dist-packages (from widgetsnbextension~=3.6.0->ipywidgets<9,>=7.5.1->rich[jupyter]>=12.0.0->zenml) (6.5.5)\n",
            "Requirement already satisfied: sniffio>=1.1 in /usr/local/lib/python3.10/dist-packages (from anyio<5.0,>=3.0->azure-core<2.0.0,>=1.26.2->azure-mgmt-core<2.0.0,>=1.3.2->azure-mgmt-resource>=21.0.0->zenml) (1.3.0)\n",
            "Requirement already satisfied: exceptiongroup in /usr/local/lib/python3.10/dist-packages (from anyio<5.0,>=3.0->azure-core<2.0.0,>=1.26.2->azure-mgmt-core<2.0.0,>=1.3.2->azure-mgmt-resource>=21.0.0->zenml) (1.2.0)\n",
            "Requirement already satisfied: parso<0.9.0,>=0.8.3 in /usr/local/lib/python3.10/dist-packages (from jedi>=0.16->ipython>=4.0.0->ipywidgets<9,>=7.5.1->rich[jupyter]>=12.0.0->zenml) (0.8.3)\n",
            "Requirement already satisfied: jinja2 in /usr/local/lib/python3.10/dist-packages (from notebook>=4.4.1->widgetsnbextension~=3.6.0->ipywidgets<9,>=7.5.1->rich[jupyter]>=12.0.0->zenml) (3.1.2)\n",
            "Requirement already satisfied: pyzmq<25,>=17 in /usr/local/lib/python3.10/dist-packages (from notebook>=4.4.1->widgetsnbextension~=3.6.0->ipywidgets<9,>=7.5.1->rich[jupyter]>=12.0.0->zenml) (23.2.1)\n",
            "Requirement already satisfied: argon2-cffi in /usr/local/lib/python3.10/dist-packages (from notebook>=4.4.1->widgetsnbextension~=3.6.0->ipywidgets<9,>=7.5.1->rich[jupyter]>=12.0.0->zenml) (23.1.0)\n",
            "Requirement already satisfied: jupyter-core>=4.6.1 in /usr/local/lib/python3.10/dist-packages (from notebook>=4.4.1->widgetsnbextension~=3.6.0->ipywidgets<9,>=7.5.1->rich[jupyter]>=12.0.0->zenml) (5.5.0)\n",
            "Requirement already satisfied: nbformat in /usr/local/lib/python3.10/dist-packages (from notebook>=4.4.1->widgetsnbextension~=3.6.0->ipywidgets<9,>=7.5.1->rich[jupyter]>=12.0.0->zenml) (5.9.2)\n",
            "Requirement already satisfied: nbconvert>=5 in /usr/local/lib/python3.10/dist-packages (from notebook>=4.4.1->widgetsnbextension~=3.6.0->ipywidgets<9,>=7.5.1->rich[jupyter]>=12.0.0->zenml) (6.5.4)\n",
            "Requirement already satisfied: nest-asyncio>=1.5 in /usr/local/lib/python3.10/dist-packages (from notebook>=4.4.1->widgetsnbextension~=3.6.0->ipywidgets<9,>=7.5.1->rich[jupyter]>=12.0.0->zenml) (1.5.8)\n",
            "Requirement already satisfied: Send2Trash>=1.8.0 in /usr/local/lib/python3.10/dist-packages (from notebook>=4.4.1->widgetsnbextension~=3.6.0->ipywidgets<9,>=7.5.1->rich[jupyter]>=12.0.0->zenml) (1.8.2)\n",
            "Requirement already satisfied: terminado>=0.8.3 in /usr/local/lib/python3.10/dist-packages (from notebook>=4.4.1->widgetsnbextension~=3.6.0->ipywidgets<9,>=7.5.1->rich[jupyter]>=12.0.0->zenml) (0.18.0)\n",
            "Requirement already satisfied: prometheus-client in /usr/local/lib/python3.10/dist-packages (from notebook>=4.4.1->widgetsnbextension~=3.6.0->ipywidgets<9,>=7.5.1->rich[jupyter]>=12.0.0->zenml) (0.19.0)\n",
            "Requirement already satisfied: nbclassic>=0.4.7 in /usr/local/lib/python3.10/dist-packages (from notebook>=4.4.1->widgetsnbextension~=3.6.0->ipywidgets<9,>=7.5.1->rich[jupyter]>=12.0.0->zenml) (1.0.0)\n",
            "Requirement already satisfied: ptyprocess>=0.5 in /usr/local/lib/python3.10/dist-packages (from pexpect>4.3->ipython>=4.0.0->ipywidgets<9,>=7.5.1->rich[jupyter]>=12.0.0->zenml) (0.7.0)\n",
            "Requirement already satisfied: wcwidth in /usr/local/lib/python3.10/dist-packages (from prompt-toolkit!=3.0.0,!=3.0.1,<3.1.0,>=2.0.0->ipython>=4.0.0->ipywidgets<9,>=7.5.1->rich[jupyter]>=12.0.0->zenml) (0.2.12)\n",
            "Requirement already satisfied: platformdirs>=2.5 in /usr/local/lib/python3.10/dist-packages (from jupyter-core>=4.6.1->notebook>=4.4.1->widgetsnbextension~=3.6.0->ipywidgets<9,>=7.5.1->rich[jupyter]>=12.0.0->zenml) (4.1.0)\n",
            "Requirement already satisfied: jupyter-server>=1.8 in /usr/local/lib/python3.10/dist-packages (from nbclassic>=0.4.7->notebook>=4.4.1->widgetsnbextension~=3.6.0->ipywidgets<9,>=7.5.1->rich[jupyter]>=12.0.0->zenml) (1.24.0)\n",
            "Requirement already satisfied: notebook-shim>=0.2.3 in /usr/local/lib/python3.10/dist-packages (from nbclassic>=0.4.7->notebook>=4.4.1->widgetsnbextension~=3.6.0->ipywidgets<9,>=7.5.1->rich[jupyter]>=12.0.0->zenml) (0.2.3)\n",
            "Requirement already satisfied: lxml in /usr/local/lib/python3.10/dist-packages (from nbconvert>=5->notebook>=4.4.1->widgetsnbextension~=3.6.0->ipywidgets<9,>=7.5.1->rich[jupyter]>=12.0.0->zenml) (4.9.3)\n",
            "Requirement already satisfied: beautifulsoup4 in /usr/local/lib/python3.10/dist-packages (from nbconvert>=5->notebook>=4.4.1->widgetsnbextension~=3.6.0->ipywidgets<9,>=7.5.1->rich[jupyter]>=12.0.0->zenml) (4.11.2)\n",
            "Requirement already satisfied: bleach in /usr/local/lib/python3.10/dist-packages (from nbconvert>=5->notebook>=4.4.1->widgetsnbextension~=3.6.0->ipywidgets<9,>=7.5.1->rich[jupyter]>=12.0.0->zenml) (6.1.0)\n",
            "Requirement already satisfied: defusedxml in /usr/local/lib/python3.10/dist-packages (from nbconvert>=5->notebook>=4.4.1->widgetsnbextension~=3.6.0->ipywidgets<9,>=7.5.1->rich[jupyter]>=12.0.0->zenml) (0.7.1)\n",
            "Requirement already satisfied: entrypoints>=0.2.2 in /usr/local/lib/python3.10/dist-packages (from nbconvert>=5->notebook>=4.4.1->widgetsnbextension~=3.6.0->ipywidgets<9,>=7.5.1->rich[jupyter]>=12.0.0->zenml) (0.4)\n",
            "Requirement already satisfied: jupyterlab-pygments in /usr/local/lib/python3.10/dist-packages (from nbconvert>=5->notebook>=4.4.1->widgetsnbextension~=3.6.0->ipywidgets<9,>=7.5.1->rich[jupyter]>=12.0.0->zenml) (0.3.0)\n",
            "Requirement already satisfied: mistune<2,>=0.8.1 in /usr/local/lib/python3.10/dist-packages (from nbconvert>=5->notebook>=4.4.1->widgetsnbextension~=3.6.0->ipywidgets<9,>=7.5.1->rich[jupyter]>=12.0.0->zenml) (0.8.4)\n",
            "Requirement already satisfied: nbclient>=0.5.0 in /usr/local/lib/python3.10/dist-packages (from nbconvert>=5->notebook>=4.4.1->widgetsnbextension~=3.6.0->ipywidgets<9,>=7.5.1->rich[jupyter]>=12.0.0->zenml) (0.9.0)\n",
            "Requirement already satisfied: pandocfilters>=1.4.1 in /usr/local/lib/python3.10/dist-packages (from nbconvert>=5->notebook>=4.4.1->widgetsnbextension~=3.6.0->ipywidgets<9,>=7.5.1->rich[jupyter]>=12.0.0->zenml) (1.5.0)\n",
            "Requirement already satisfied: tinycss2 in /usr/local/lib/python3.10/dist-packages (from nbconvert>=5->notebook>=4.4.1->widgetsnbextension~=3.6.0->ipywidgets<9,>=7.5.1->rich[jupyter]>=12.0.0->zenml) (1.2.1)\n",
            "Requirement already satisfied: fastjsonschema in /usr/local/lib/python3.10/dist-packages (from nbformat->notebook>=4.4.1->widgetsnbextension~=3.6.0->ipywidgets<9,>=7.5.1->rich[jupyter]>=12.0.0->zenml) (2.19.0)\n",
            "Requirement already satisfied: jsonschema>=2.6 in /usr/local/lib/python3.10/dist-packages (from nbformat->notebook>=4.4.1->widgetsnbextension~=3.6.0->ipywidgets<9,>=7.5.1->rich[jupyter]>=12.0.0->zenml) (4.19.2)\n",
            "Requirement already satisfied: argon2-cffi-bindings in /usr/local/lib/python3.10/dist-packages (from argon2-cffi->notebook>=4.4.1->widgetsnbextension~=3.6.0->ipywidgets<9,>=7.5.1->rich[jupyter]>=12.0.0->zenml) (21.2.0)\n",
            "Requirement already satisfied: attrs>=22.2.0 in /usr/local/lib/python3.10/dist-packages (from jsonschema>=2.6->nbformat->notebook>=4.4.1->widgetsnbextension~=3.6.0->ipywidgets<9,>=7.5.1->rich[jupyter]>=12.0.0->zenml) (23.1.0)\n",
            "Requirement already satisfied: jsonschema-specifications>=2023.03.6 in /usr/local/lib/python3.10/dist-packages (from jsonschema>=2.6->nbformat->notebook>=4.4.1->widgetsnbextension~=3.6.0->ipywidgets<9,>=7.5.1->rich[jupyter]>=12.0.0->zenml) (2023.11.2)\n",
            "Requirement already satisfied: referencing>=0.28.4 in /usr/local/lib/python3.10/dist-packages (from jsonschema>=2.6->nbformat->notebook>=4.4.1->widgetsnbextension~=3.6.0->ipywidgets<9,>=7.5.1->rich[jupyter]>=12.0.0->zenml) (0.32.0)\n",
            "Requirement already satisfied: rpds-py>=0.7.1 in /usr/local/lib/python3.10/dist-packages (from jsonschema>=2.6->nbformat->notebook>=4.4.1->widgetsnbextension~=3.6.0->ipywidgets<9,>=7.5.1->rich[jupyter]>=12.0.0->zenml) (0.13.2)\n",
            "Requirement already satisfied: cffi>=1.0.1 in /usr/local/lib/python3.10/dist-packages (from argon2-cffi-bindings->argon2-cffi->notebook>=4.4.1->widgetsnbextension~=3.6.0->ipywidgets<9,>=7.5.1->rich[jupyter]>=12.0.0->zenml) (1.16.0)\n",
            "Requirement already satisfied: soupsieve>1.2 in /usr/local/lib/python3.10/dist-packages (from beautifulsoup4->nbconvert>=5->notebook>=4.4.1->widgetsnbextension~=3.6.0->ipywidgets<9,>=7.5.1->rich[jupyter]>=12.0.0->zenml) (2.5)\n",
            "Requirement already satisfied: webencodings in /usr/local/lib/python3.10/dist-packages (from bleach->nbconvert>=5->notebook>=4.4.1->widgetsnbextension~=3.6.0->ipywidgets<9,>=7.5.1->rich[jupyter]>=12.0.0->zenml) (0.5.1)\n",
            "Requirement already satisfied: pycparser in /usr/local/lib/python3.10/dist-packages (from cffi>=1.0.1->argon2-cffi-bindings->argon2-cffi->notebook>=4.4.1->widgetsnbextension~=3.6.0->ipywidgets<9,>=7.5.1->rich[jupyter]>=12.0.0->zenml) (2.21)\n"
          ]
        }
      ]
    },
    {
      "cell_type": "markdown",
      "source": [
        "ZenML setup:"
      ],
      "metadata": {
        "id": "mcgskHAEKHbr"
      }
    },
    {
      "cell_type": "code",
      "source": [
        "!rm -rf .zen\n",
        "!zenml init"
      ],
      "metadata": {
        "colab": {
          "base_uri": "https://localhost:8080/"
        },
        "id": "4DXqnH67Kh2y",
        "outputId": "9ad410c6-7dee-472b-d84c-799bff29588a"
      },
      "execution_count": 4,
      "outputs": [
        {
          "output_type": "stream",
          "name": "stdout",
          "text": [
            "\u001b[1;35mNumExpr defaulting to 2 threads.\u001b[0m\n",
            "\u001b[?25l\u001b[32m⠋\u001b[0m Initializing ZenML repository at /content.\n",
            "\u001b[2K\u001b[1A\u001b[2K\u001b[32m⠙\u001b[0m Initializing ZenML repository at /content.\n",
            "\u001b[2K\u001b[1A\u001b[2K\u001b[32m⠹\u001b[0m Initializing ZenML repository at /content.\n",
            "\u001b[2K\u001b[1A\u001b[2K\u001b[32m⠸\u001b[0m Initializing ZenML repository at /content.\n",
            "\u001b[2K\u001b[1A\u001b[2K\u001b[32m⠼\u001b[0m Initializing ZenML repository at /content.\n",
            "\u001b[2K\u001b[1A\u001b[2K\u001b[32m⠴\u001b[0m Initializing ZenML repository at /content.\n",
            "\u001b[2K\u001b[1A\u001b[2K\u001b[32m⠸\u001b[0m Initializing ZenML repository at /content.\n",
            "\u001b[2K\u001b[1A\u001b[2K\u001b[32m⠼\u001b[0m Initializing ZenML repository at /content.\n",
            "\u001b[2K\u001b[1A\u001b[2K\u001b[32m⠴\u001b[0m Initializing ZenML repository at /content.\n",
            "\u001b[2K\u001b[1A\u001b[2K\u001b[32m⠦\u001b[0m Initializing ZenML repository at /content.\n",
            "\u001b[2K\u001b[1A\u001b[2K\u001b[32m⠧\u001b[0m Initializing ZenML repository at /content.\n",
            "\u001b[2K\u001b[1A\u001b[2K\u001b[32m⠇\u001b[0m Initializing ZenML repository at /content.\n",
            "\u001b[2K\u001b[1A\u001b[2K\u001b[32m⠋\u001b[0m Initializing ZenML repository at /content.\n",
            "\u001b[2K\u001b[1A\u001b[2K\u001b[32m⠙\u001b[0m Initializing ZenML repository at /content.\n",
            "\u001b[1;35mSetting the repo active workspace to 'default'.\u001b[0m\n",
            "\u001b[33mSetting the repo active stack to default.\u001b[0m\n",
            "\u001b[2K\u001b[1A\u001b[2K\u001b[32m⠹\u001b[0m Initializing ZenML repository at /content.\n",
            "\u001b[2K\u001b[1A\u001b[2K\u001b[2;36mZenML repository initialized at \u001b[0m\u001b[2;35m/\u001b[0m\u001b[2;95mcontent.\u001b[0m\n",
            "\u001b[2;32m⠹\u001b[0m\u001b[2;36m Initializing ZenML repository at /content.\u001b[0m\n",
            "\u001b[2K\u001b[1A\u001b[2K\u001b[32m⠹\u001b[0m Initializing ZenML repository at /content.\n",
            "\n",
            "\u001b[1A\u001b[2K\u001b[1A\u001b[2K\u001b[2;36mThe local active stack was initialized to \u001b[0m\u001b[2;32m'default'\u001b[0m\u001b[2;36m. This local configuration will only take effect \u001b[0m\n",
            "\u001b[2;36mwhen you're running ZenML from the initialized repository root, or from a subdirectory. For more \u001b[0m\n",
            "\u001b[2;36minformation on repositories and configurations, please visit \u001b[0m\n",
            "\u001b[2;4;94mhttps://docs.zenml.io/user-guide/starter-guide/understand-stacks.\u001b[0m\n"
          ]
        }
      ]
    },
    {
      "cell_type": "markdown",
      "source": [
        "Example experimentation ML code:"
      ],
      "metadata": {
        "id": "bcH85d8GLR9w"
      }
    },
    {
      "cell_type": "code",
      "source": [
        "import numpy as np\n",
        "from sklearn.base import ClassifierMixin\n",
        "from sklearn.svm import SVC\n",
        "from sklearn.datasets import load_digits\n",
        "from sklearn.model_selection import train_test_split\n",
        "\n",
        "def train_test():\n",
        "  digits = load_digits()\n",
        "  data = digits.images.reshape((len(digits.images), -1))\n",
        "  X_train, X_test, y_train, y_test = train_test_split(\n",
        "      data, digits.target, test_size=0.2, shuffle=False\n",
        "  )\n",
        "  model = SVC(gamma=0.001)\n",
        "  model.fit(X_train, y_train)\n",
        "  test_acc = model.score(X_test, y_test)\n",
        "  print(f\"model accuracy: {test_acc}\")\n",
        "\n",
        "train_test()"
      ],
      "metadata": {
        "colab": {
          "base_uri": "https://localhost:8080/"
        },
        "id": "tnOKXPNjKyOQ",
        "outputId": "4f3b86da-53de-4fa2-b307-86283a36c537"
      },
      "execution_count": 5,
      "outputs": [
        {
          "output_type": "stream",
          "name": "stdout",
          "text": [
            "model accuracy: 0.9583333333333334\n"
          ]
        }
      ]
    },
    {
      "cell_type": "markdown",
      "source": [
        "Now we are to turn this simple experiment into ML pipeline with ZenML. this pipeline will automate the process of loading the data, training a model and evaluating it."
      ],
      "metadata": {
        "id": "pL1jssyLSC2B"
      }
    },
    {
      "cell_type": "code",
      "source": [
        "from zenml import step\n",
        "from typing_extensions import Annotated\n",
        "import pandas as pd\n",
        "from typing import Tuple\n",
        "\n",
        "@step\n",
        "def importer() -> Tuple[\n",
        "    Annotated[np.ndarray, \"X_train\"],\n",
        "    Annotated[np.ndarray, \"X_test\"],\n",
        "    Annotated[np.ndarray, \"y_train\"],\n",
        "    Annotated[np.ndarray, \"x_test\"]\n",
        "]:\n",
        "\n",
        "  digits = load_digits()\n",
        "  data = digits.images.reshape((len(digits.images), -1))\n",
        "  X_train, X_test, y_train, y_test = train_test_split(data, digits.target, test_size=0.2, shuffle = False)\n",
        "  return X_train, X_test, y_train, y_test\n",
        "\n",
        "@step\n",
        "def SVC_trainer(X_train: np.ndarray, y_train : np.ndarray) -> ClassifierMixin:\n",
        "  model = SVC(gamma=0.001)\n",
        "  model.fit(X_train, y_train)\n",
        "  return model\n",
        "\n",
        "@step\n",
        "def evaluator(X_test: np.ndarray, y_test : np.ndarray, model : ClassifierMixin) -> float:\n",
        "  model_acc = model.score(X_test, y_test)\n",
        "  print(f\"Model accuracy: {model_acc}\")\n",
        "  return model_acc"
      ],
      "metadata": {
        "id": "tn5TNj4DXNVX"
      },
      "execution_count": 11,
      "outputs": []
    },
    {
      "cell_type": "markdown",
      "source": [
        "Creating zenML pipeline:"
      ],
      "metadata": {
        "id": "HOF3GmbidckF"
      }
    },
    {
      "cell_type": "code",
      "source": [
        "from zenml import pipeline\n",
        "\n",
        "@pipeline\n",
        "def digits_pipeline():\n",
        "  X_train, X_test, y_train, y_test = importer()\n",
        "  model = SVC_trainer(X_train, y_train)\n",
        "  evaluator(X_test, y_test, model)"
      ],
      "metadata": {
        "id": "BXzxJmwsdg1y"
      },
      "execution_count": 12,
      "outputs": []
    },
    {
      "cell_type": "markdown",
      "source": [
        "Running zenML pipeline:"
      ],
      "metadata": {
        "id": "hkyHZgNz0ZQ2"
      }
    },
    {
      "cell_type": "code",
      "source": [
        "digits_SVC_pipeline = digits_pipeline()\n",
        "#digits_SVC_pipeline.run(unlisted=True)"
      ],
      "metadata": {
        "colab": {
          "base_uri": "https://localhost:8080/"
        },
        "id": "9PNORXy5xRuT",
        "outputId": "5f1d2716-f6cd-4b7f-806a-8bd759dc9392"
      },
      "execution_count": 13,
      "outputs": [
        {
          "output_type": "stream",
          "name": "stdout",
          "text": [
            "\u001b[1;35mInitiating a new run for the pipeline: \u001b[0m\u001b[1;36mdigits_pipeline\u001b[1;35m.\u001b[0m\n",
            "\u001b[1;35mReusing registered version: \u001b[0m\u001b[1;36m(version: 1)\u001b[1;35m.\u001b[0m\n",
            "\u001b[1;35mExecuting a new run.\u001b[0m\n",
            "\u001b[1;35mUsing user: \u001b[0m\u001b[1;36mdefault\u001b[1;35m\u001b[0m\n",
            "\u001b[1;35mUsing stack: \u001b[0m\u001b[1;36mdefault\u001b[1;35m\u001b[0m\n",
            "\u001b[1;35m  orchestrator: \u001b[0m\u001b[1;36mdefault\u001b[1;35m\u001b[0m\n",
            "\u001b[1;35m  artifact_store: \u001b[0m\u001b[1;36mdefault\u001b[1;35m\u001b[0m\n",
            "\u001b[1;35mUsing cached version of \u001b[0m\u001b[1;36mimporter\u001b[1;35m.\u001b[0m\n",
            "\u001b[1;35mStep \u001b[0m\u001b[1;36mimporter\u001b[1;35m has started.\u001b[0m\n",
            "\u001b[1;35mUsing cached version of \u001b[0m\u001b[1;36mSVC_trainer\u001b[1;35m.\u001b[0m\n",
            "\u001b[1;35mLinking artifact \u001b[0m\u001b[1;36moutput\u001b[1;35m to model \u001b[0m\u001b[1;36mNone\u001b[1;35m version \u001b[0m\u001b[1;36mNone\u001b[1;35m implicitly.\u001b[0m\n",
            "\u001b[1;35mStep \u001b[0m\u001b[1;36mSVC_trainer\u001b[1;35m has started.\u001b[0m\n",
            "\u001b[1;35mUsing cached version of \u001b[0m\u001b[1;36mevaluator\u001b[1;35m.\u001b[0m\n",
            "\u001b[1;35mLinking artifact \u001b[0m\u001b[1;36moutput\u001b[1;35m to model \u001b[0m\u001b[1;36mNone\u001b[1;35m version \u001b[0m\u001b[1;36mNone\u001b[1;35m implicitly.\u001b[0m\n",
            "\u001b[1;35mStep \u001b[0m\u001b[1;36mevaluator\u001b[1;35m has started.\u001b[0m\n",
            "\u001b[1;35mRun \u001b[0m\u001b[1;36mdigits_pipeline-2023_12_17-22_05_39_817528\u001b[1;35m has finished in \u001b[0m\u001b[1;36m0.441s\u001b[1;35m.\u001b[0m\n",
            "\u001b[1;35mYou can visualize your pipeline runs in the \u001b[0m\u001b[1;36mZenML Dashboard\u001b[1;35m. In order to try it locally, please run \u001b[0m\u001b[1;36mzenml up\u001b[1;35m.\u001b[0m\n"
          ]
        }
      ]
    },
    {
      "cell_type": "markdown",
      "source": [
        "now with following code we can visualize zenML the pipeline in zenML dashboard. the username is loca and the password should be left empty."
      ],
      "metadata": {
        "id": "uxANaADb0cfr"
      }
    },
    {
      "cell_type": "code",
      "source": [
        "from zenml.environment import Environment\n",
        "\n",
        "def start_zenml_dashboard(port=8237):\n",
        "  if Environment.in_google_colab():\n",
        "    from pyngrok import ngrok\n",
        "\n",
        "    public_url = ngrok.connect(port)\n",
        "    print(f\"use this url instead: {public_url}\")\n",
        "    !zenml up --blocking --port {port}\n",
        "\n",
        "  else:\n",
        "    !zenml up --port {port}\n",
        "\n",
        "start_zenml_dashboard()"
      ],
      "metadata": {
        "colab": {
          "base_uri": "https://localhost:8080/"
        },
        "id": "WurMTilX071t",
        "outputId": "2997656f-bd8c-4871-ada3-6526d0136259"
      },
      "execution_count": 17,
      "outputs": [
        {
          "output_type": "stream",
          "name": "stdout",
          "text": [
            "\u001b[1;35mNumExpr defaulting to 2 threads.\u001b[0m\n",
            "\u001b[1;35mUpdating the local ZenML server.\u001b[0m\n",
            "\u001b[?25l\u001b[32m⠋\u001b[0m Stopping service 'LocalZenServer[9a4ac2eb-dad5-4747-8f30-5e622a95d211] (type: zen_server, flavor: \n",
            "local)'.\n",
            "\u001b[2K\u001b[1A\u001b[2K\u001b[1A\u001b[2K\u001b[32m⠙\u001b[0m Stopping service 'LocalZenServer[9a4ac2eb-dad5-4747-8f30-5e622a95d211] (type: zen_server, flavor: \n",
            "local)'.\n",
            "\u001b[2K\u001b[1A\u001b[2K\u001b[1A\u001b[2K\u001b[32m⠹\u001b[0m Stopping service 'LocalZenServer[9a4ac2eb-dad5-4747-8f30-5e622a95d211] (type: zen_server, flavor: \n",
            "local)'.\n",
            "\u001b[2K\u001b[1A\u001b[2K\u001b[1A\u001b[2K\u001b[32m⠸\u001b[0m Stopping service 'LocalZenServer[9a4ac2eb-dad5-4747-8f30-5e622a95d211] (type: zen_server, flavor: \n",
            "local)'.\n",
            "\u001b[2K\u001b[1A\u001b[2K\u001b[1A\u001b[2K\u001b[32m⠼\u001b[0m Stopping service 'LocalZenServer[9a4ac2eb-dad5-4747-8f30-5e622a95d211] (type: zen_server, flavor: \n",
            "local)'.\n",
            "\u001b[2K\u001b[1A\u001b[2K\u001b[1A\u001b[2K\u001b[32m⠴\u001b[0m Stopping service 'LocalZenServer[9a4ac2eb-dad5-4747-8f30-5e622a95d211] (type: zen_server, flavor: \n",
            "local)'.\n",
            "\u001b[2K\u001b[1A\u001b[2K\u001b[1A\u001b[2K\u001b[32m⠦\u001b[0m Stopping service 'LocalZenServer[9a4ac2eb-dad5-4747-8f30-5e622a95d211] (type: zen_server, flavor: \n",
            "local)'.\n",
            "\u001b[2K\u001b[1A\u001b[2K\u001b[1A\u001b[2K\u001b[32m⠧\u001b[0m Stopping service 'LocalZenServer[9a4ac2eb-dad5-4747-8f30-5e622a95d211] (type: zen_server, flavor: \n",
            "local)'.\n",
            "\u001b[2K\u001b[1A\u001b[2K\u001b[1A\u001b[2K\u001b[32m⠇\u001b[0m Stopping service 'LocalZenServer[9a4ac2eb-dad5-4747-8f30-5e622a95d211] (type: zen_server, flavor: \n",
            "local)'.\n",
            "\u001b[2K\u001b[1A\u001b[2K\u001b[1A\u001b[2K\u001b[32m⠏\u001b[0m Stopping service 'LocalZenServer[9a4ac2eb-dad5-4747-8f30-5e622a95d211] (type: zen_server, flavor: \n",
            "local)'.\n",
            "\u001b[2K\u001b[1A\u001b[2K\u001b[1A\u001b[2K\u001b[32m⠋\u001b[0m Stopping service 'LocalZenServer[9a4ac2eb-dad5-4747-8f30-5e622a95d211] (type: zen_server, flavor: \n",
            "local)'.\n",
            "\u001b[2K\u001b[1A\u001b[2K\u001b[1A\u001b[2K\u001b[32m⠙\u001b[0m Stopping service 'LocalZenServer[9a4ac2eb-dad5-4747-8f30-5e622a95d211] (type: zen_server, flavor: \n",
            "local)'.\n",
            "\u001b[2K\u001b[1A\u001b[2K\u001b[1A\u001b[2K\u001b[32m⠙\u001b[0m Stopping service 'LocalZenServer[9a4ac2eb-dad5-4747-8f30-5e622a95d211] (type: zen_server, flavor: \n",
            "local)'.\n",
            "\n",
            "\u001b[1A\u001b[2K\u001b[1A\u001b[2K\u001b[1A\u001b[2K\u001b[1;35mStarting ZenML Server as blocking process... press CTRL+C once to stop it.\u001b[0m\n",
            "\u001b[32mINFO\u001b[0m:     Started server process [\u001b[36m32349\u001b[0m]\n",
            "\u001b[32mINFO\u001b[0m:     Waiting for application startup.\n",
            "\u001b[32mINFO\u001b[0m:     Application startup complete.\n",
            "\u001b[32mINFO\u001b[0m:     Uvicorn running on \u001b[1mhttp://127.0.0.1:8237\u001b[0m (Press CTRL+C to quit)\n",
            "\u001b[32mINFO\u001b[0m:     Shutting down\n",
            "\u001b[32mINFO\u001b[0m:     Finished server process [\u001b[36m32349\u001b[0m]\n",
            "\u001b[31mERROR\u001b[0m:    Traceback (most recent call last):\n",
            "  File \"/usr/local/lib/python3.10/dist-packages/starlette/routing.py\", line 686, in lifespan\n",
            "    await receive()\n",
            "  File \"/usr/local/lib/python3.10/dist-packages/uvicorn/lifespan/on.py\", line 137, in receive\n",
            "    return await self.receive_queue.get()\n",
            "  File \"/usr/lib/python3.10/asyncio/queues.py\", line 159, in get\n",
            "    await getter\n",
            "asyncio.exceptions.CancelledError\n",
            "\n"
          ]
        }
      ]
    }
  ]
}